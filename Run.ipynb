{
 "cells": [
  {
   "cell_type": "code",
   "execution_count": 1,
   "id": "2e956ffa-65ce-4280-b15a-69d21a6cdffa",
   "metadata": {},
   "outputs": [
    {
     "name": "stdout",
     "output_type": "stream",
     "text": [
      "Cloning into 'BitBruteForce-Wallet-Compressed-Address'...\n",
      "remote: Enumerating objects: 103, done.\u001b[K\n",
      "remote: Counting objects: 100% (103/103), done.\u001b[K\n",
      "remote: Compressing objects: 100% (57/57), done.\u001b[K\n",
      "remote: Total 103 (delta 57), reused 73 (delta 39), pack-reused 0\u001b[K\n",
      "Receiving objects: 100% (103/103), 3.08 MiB | 2.08 MiB/s, done.\n",
      "Resolving deltas: 100% (57/57), done.\n"
     ]
    }
   ],
   "source": [
    "!git clone https://github.com/Jinwenq/BitBruteForce-Wallet-Compressed-Address.git"
   ]
  },
  {
   "cell_type": "code",
   "execution_count": 2,
   "id": "4a5d0df1-ed1c-45ce-ac5c-c628845f25bf",
   "metadata": {},
   "outputs": [
    {
     "name": "stdout",
     "output_type": "stream",
     "text": [
      "/data\n"
     ]
    }
   ],
   "source": [
    "!pwd"
   ]
  },
  {
   "cell_type": "code",
   "execution_count": null,
   "id": "5f43b6b6-aa89-4f62-b4a2-c9b979bf52de",
   "metadata": {},
   "outputs": [],
   "source": [
    "!pip install ecdsa\n",
    "!pip install base58\n",
    "!pip install pandas\n",
    "!pip install bech32"
   ]
  },
  {
   "cell_type": "code",
   "execution_count": 2,
   "id": "53d4fbe8-994b-43d8-bf11-20f750a609e0",
   "metadata": {},
   "outputs": [
    {
     "name": "stdout",
     "output_type": "stream",
     "text": [
      "Core 0:  Searching Private Key..\n",
      "Core 1:  Searching Private Key..\n",
      "^C\n",
      "Error in atexit._run_exitfuncs:\n",
      "Traceback (most recent call last):\n",
      "  File \"/usr/lib64/python3.8/multiprocessing/popen_fork.py\", line 27, in poll\n",
      "Process Process-2:\n",
      "Process Process-1:\n",
      "    pid, sts = os.waitpid(self.pid, flag)\n",
      "KeyboardInterrupt\n",
      "Traceback (most recent call last):\n",
      "Traceback (most recent call last):\n",
      "  File \"/usr/lib64/python3.8/multiprocessing/process.py\", line 315, in _bootstrap\n",
      "    self.run()\n",
      "  File \"/usr/lib64/python3.8/multiprocessing/process.py\", line 315, in _bootstrap\n",
      "    self.run()\n",
      "  File \"/usr/lib64/python3.8/multiprocessing/process.py\", line 108, in run\n",
      "    self._target(*self._args, **self._kwargs)\n",
      "  File \"/usr/lib64/python3.8/multiprocessing/process.py\", line 108, in run\n",
      "    self._target(*self._args, **self._kwargs)\n",
      "  File \"/data/BitBruteForce-Wallet-Compressed-Address/1xUmpressed.py\", line 62, in seek\n",
      "    for line in f:\n",
      "  File \"/data/BitBruteForce-Wallet-Compressed-Address/1xUmpressed.py\", line 63, in seek\n",
      "    if pub in line:\n",
      "KeyboardInterrupt\n",
      "KeyboardInterrupt\n"
     ]
    }
   ],
   "source": [
    "!python /data/BitBruteForce-Wallet-Compressed-Address/1xUmpressed.py"
   ]
  },
  {
   "cell_type": "code",
   "execution_count": 71,
   "id": "e600ef90-d353-49c2-9a32-b418079a6222",
   "metadata": {},
   "outputs": [
    {
     "name": "stdout",
     "output_type": "stream",
     "text": [
      "Core 0:  Searching Private Key..\n",
      "Core 1:  Searching Private Key..\n",
      "\n",
      "Public: 39qJ3QZBxtjR3B8NYF4nqvZtQJ871r6tMN\n",
      " ---- Private: Kx2HaD76zExb1UBsk5bKfWvaGrvvofRBk9iz9hEv3z9aP7YiwxMj\n",
      "\n",
      "Public: 35MRwxNEo31CCpoK4SoKxkhmidTwF6mjxs\n",
      " ---- Private: L22ENpKEvZ77DSbJ6CRynuvh1RbQcEnWoogJ7FLuUVvT4MBUyHA9\n",
      "17f5d5728e04adab42c93dafc5cd8b7ae383f7ea3fa9aa34965d5cee80fa5c58WINNER WINNER CHICKEN DINNER!!! ---- 2022-01-06 19:25:51 39qJ3QZBxtjR3B8NYF4nqvZtQJ871r6tMN\n",
      " Kx2HaD76zExb1UBsk5bKfWvaGrvvofRBk9iz9hEv3z9aP7YiwxMj\n",
      "\n",
      "Public: 39HRAgnzfhoWQPCyjnCQzsMwGRf8tLbSMD\n",
      " ---- Private: L4km7PGdEYx9bmaGMQXu9yTkDVEVggou2JKZJxsymUsnfpTYa6KV\n",
      "8f4811ebfc31d29f26b8cb746e879d0d9fb664f9d6afbb34a6d38ea80130260aWINNER WINNER CHICKEN DINNER!!! ---- 2022-01-06 19:25:51 35MRwxNEo31CCpoK4SoKxkhmidTwF6mjxs\n",
      " L22ENpKEvZ77DSbJ6CRynuvh1RbQcEnWoogJ7FLuUVvT4MBUyHA9\n",
      "\n",
      "Public: 3JphTE744TJctn1usJpWiie2eL2ttycgFa\n",
      " ---- Private: KwRoWa9Gg6xRYQqQCZ7Q1byRDvKitzC92MX4CzNnSWkQJE3ehQs9\n",
      "e0d5d695e3839ca87eb21f4e3350382e0eb2454c5874811d01f1662b4edd10b4WINNER WINNER CHICKEN DINNER!!! ---- 2022-01-06 19:26:01 39HRAgnzfhoWQPCyjnCQzsMwGRf8tLbSMD\n",
      " L4km7PGdEYx9bmaGMQXu9yTkDVEVggou2JKZJxsymUsnfpTYa6KV\n",
      "\n",
      "Public: 3FHWTVkafJZmrqY6LfSm6kDPs16eWQm8c7\n",
      " ---- Private: KwK999m1vgJA275xrzzB1ssFHkyhJzP111kA55BifKB6Yp1dT8Pi\n",
      "0638725c2036f552579bc4920733026a1536dc7a3c7a13e7bd34722b678a45b8WINNER WINNER CHICKEN DINNER!!! ---- 2022-01-06 19:26:01 3JphTE744TJctn1usJpWiie2eL2ttycgFa\n",
      " KwRoWa9Gg6xRYQqQCZ7Q1byRDvKitzC92MX4CzNnSWkQJE3ehQs9\n",
      "\n",
      "Public: 32DzT1JyaeZPC5VJtT6HTyS48i7Bib3STk\n",
      " ---- Private: L1c9Z1Mt6pgTSTt3BhxQjg4gsvwDTxm2GQ5T3RVsKj9W24UHD5iD\n",
      "02cb25dde997457420f124acb2b4c012b512a57c090255ca4d4c56ef52d6074eWINNER WINNER CHICKEN DINNER!!! ---- 2022-01-06 19:26:11 3FHWTVkafJZmrqY6LfSm6kDPs16eWQm8c7\n",
      " KwK999m1vgJA275xrzzB1ssFHkyhJzP111kA55BifKB6Yp1dT8Pi\n",
      "\n",
      "Public: 3DPX7roHVmEssp1c5RpAvrG9xmRrX1GfHy\n",
      " ---- Private: L56K1vtoA8byzGWS6YchQVpM156cbEdUTkSR783R1BA7nFsBU4RK\n",
      "82e468d843a91167702772d0b57cab9344697bcf837b82a12701a30fd224e5eaWINNER WINNER CHICKEN DINNER!!! ---- 2022-01-06 19:26:11 32DzT1JyaeZPC5VJtT6HTyS48i7Bib3STk\n",
      " L1c9Z1Mt6pgTSTt3BhxQjg4gsvwDTxm2GQ5T3RVsKj9W24UHD5iD\n",
      "\n",
      "Public: 3N5GwVJyj4yYqUkoqXxb9jJCDQsZLSjPF2\n",
      " ---- Private: L3K27cZE3jyyXM1oqDZe17CbdZZRNbEnUWeuVTHz21mBuyzkuVXi\n",
      "eae482a9ce92ea712913b814a558b6ee2b61c0f84f406ddc08cdb40b9876592aWINNER WINNER CHICKEN DINNER!!! ---- 2022-01-06 19:26:21 3DPX7roHVmEssp1c5RpAvrG9xmRrX1GfHy\n",
      " L56K1vtoA8byzGWS6YchQVpM156cbEdUTkSR783R1BA7nFsBU4RK\n",
      "\n",
      "Public: 34Vn1vLj5B67JtoVRghfUU1xRf9xvGxfCa\n",
      " ---- Private: L5mUqzmBdfa1jgbkeQpx2DAuZ63178dazwmRmGioiWm3S7gSsGt3\n",
      "b5c16f3cc393758b162067b6e88f84d5ff55682215735cc8db75df482af18504WINNER WINNER CHICKEN DINNER!!! ---- 2022-01-06 19:26:21 3N5GwVJyj4yYqUkoqXxb9jJCDQsZLSjPF2\n",
      " L3K27cZE3jyyXM1oqDZe17CbdZZRNbEnUWeuVTHz21mBuyzkuVXi\n",
      "\n",
      "Public: 3LnfZLk7dk99VqhZdEKQ3Hz5vbWEtEGbKz\n",
      " ---- Private: KwJvpd86Jfmc7BBfADauJwUENrTAaEALgiBmGLjVgqz2xEFJwcJk\n",
      "ff0af9b854c9d2b12f38898478d0aeb0ac2bbb82678a483dfe820c20d8898888WINNER WINNER CHICKEN DINNER!!! ---- 2022-01-06 19:26:31 34Vn1vLj5B67JtoVRghfUU1xRf9xvGxfCa\n",
      " L5mUqzmBdfa1jgbkeQpx2DAuZ63178dazwmRmGioiWm3S7gSsGt3\n",
      "02af2cd2fd7e7e1240dd8ca49ad5034ed3be8ea4898bcfc795aeebb1c7af0201WINNER WINNER CHICKEN DINNER!!! ---- 2022-01-06 19:26:31 3LnfZLk7dk99VqhZdEKQ3Hz5vbWEtEGbKz\n",
      " KwJvpd86Jfmc7BBfADauJwUENrTAaEALgiBmGLjVgqz2xEFJwcJk\n",
      "\n",
      "Public: 39gqNDeumev5XwkegjyGCvGa4zQbDJnpCf\n",
      " ---- Private: L2uCNZY7Eha5cXCgjutPWCXMGnpBzct2rsZA1nvAKvUVGriSw97g\n",
      "\n",
      "Public: 3JPc67o8kGwAX4vSQpfDqEaqmcTB2hsFKG\n",
      " ---- Private: KzPd3xX7qfin6s3kcEGKmyns8RicaYUkEsd22aH7a76FSbTmRRDB\n",
      "^C\n",
      "Process Process-2:\n",
      "Process Process-1:\n",
      "Error in atexit._run_exitfuncs:\n",
      "Traceback (most recent call last):\n",
      "  File \"/usr/lib64/python3.8/multiprocessing/popen_fork.py\", line 27, in poll\n",
      "    pid, sts = os.waitpid(self.pid, flag)\n",
      "KeyboardInterrupt\n",
      "Traceback (most recent call last):\n",
      "Traceback (most recent call last):\n",
      "  File \"/usr/lib64/python3.8/multiprocessing/process.py\", line 315, in _bootstrap\n",
      "    self.run()\n",
      "  File \"/usr/lib64/python3.8/multiprocessing/process.py\", line 315, in _bootstrap\n",
      "    self.run()\n",
      "  File \"/usr/lib64/python3.8/multiprocessing/process.py\", line 108, in run\n",
      "    self._target(*self._args, **self._kwargs)\n",
      "  File \"/usr/lib64/python3.8/multiprocessing/process.py\", line 108, in run\n",
      "    self._target(*self._args, **self._kwargs)\n",
      "  File \"/data/BitBruteForce-Wallet-Compressed-Address/3xSegwit.py\", line 82, in seek\n",
      "    time.sleep(10)\n",
      "  File \"/data/BitBruteForce-Wallet-Compressed-Address/3xSegwit.py\", line 82, in seek\n",
      "    time.sleep(10)\n",
      "KeyboardInterrupt\n",
      "KeyboardInterrupt\n"
     ]
    }
   ],
   "source": [
    "!python /data/BitBruteForce-Wallet-Compressed-Address/3xSegwit.py"
   ]
  },
  {
   "cell_type": "code",
   "execution_count": 2,
   "id": "f70f8392-c6a6-413f-b3eb-cfd6986e9ed4",
   "metadata": {},
   "outputs": [
    {
     "ename": "NameError",
     "evalue": "name 'ripemd160' is not defined",
     "output_type": "error",
     "traceback": [
      "\u001b[0;31m---------------------------------------------------------------------------\u001b[0m",
      "\u001b[0;31mNameError\u001b[0m                                 Traceback (most recent call last)",
      "\u001b[0;32m<ipython-input-2-a6cff3f78901>\u001b[0m in \u001b[0;36m<module>\u001b[0;34m\u001b[0m\n\u001b[1;32m      1\u001b[0m \u001b[0;32mimport\u001b[0m \u001b[0mbech32\u001b[0m\u001b[0;34m\u001b[0m\u001b[0;34m\u001b[0m\u001b[0m\n\u001b[1;32m      2\u001b[0m \u001b[0mpubl_key\u001b[0m \u001b[0;34m=\u001b[0m \u001b[0;34m\"02c3605a99784c5012e551fb397450099c6f6b84d7cbfc807753825de7b099fb72\"\u001b[0m\u001b[0;34m\u001b[0m\u001b[0;34m\u001b[0m\u001b[0m\n\u001b[0;32m----> 3\u001b[0;31m \u001b[0mhash160\u001b[0m \u001b[0;34m=\u001b[0m \u001b[0mripemd160\u001b[0m\u001b[0;34m(\u001b[0m\u001b[0mhashlib\u001b[0m\u001b[0;34m.\u001b[0m\u001b[0msha256\u001b[0m\u001b[0;34m(\u001b[0m\u001b[0mbinascii\u001b[0m\u001b[0;34m.\u001b[0m\u001b[0munhexlify\u001b[0m\u001b[0;34m(\u001b[0m\u001b[0mpubl_key\u001b[0m\u001b[0;34m)\u001b[0m\u001b[0;34m)\u001b[0m\u001b[0;34m.\u001b[0m\u001b[0mdigest\u001b[0m\u001b[0;34m(\u001b[0m\u001b[0;34m)\u001b[0m\u001b[0;34m)\u001b[0m\u001b[0;34m.\u001b[0m\u001b[0mdigest\u001b[0m\u001b[0;34m(\u001b[0m\u001b[0;34m)\u001b[0m\u001b[0;34m\u001b[0m\u001b[0;34m\u001b[0m\u001b[0m\n\u001b[0m\u001b[1;32m      4\u001b[0m \u001b[0;31m#publ_addr_a = bytes.fromhex(\"0014\") + hash160\u001b[0m\u001b[0;34m\u001b[0m\u001b[0;34m\u001b[0m\u001b[0;34m\u001b[0m\u001b[0m\n\u001b[1;32m      5\u001b[0m \u001b[0;31m#prefix = b'\\xc4'\u001b[0m\u001b[0;34m\u001b[0m\u001b[0;34m\u001b[0m\u001b[0;34m\u001b[0m\u001b[0m\n",
      "\u001b[0;31mNameError\u001b[0m: name 'ripemd160' is not defined"
     ]
    }
   ],
   "source": [
    "\n",
    "import bech32\n",
    "publ_key = \"02c3605a99784c5012e551fb397450099c6f6b84d7cbfc807753825de7b099fb72\"\n",
    "hash160 = ripemd160(hashlib.sha256(binascii.unhexlify(publ_key)).digest()).digest()\n",
    "#publ_addr_a = bytes.fromhex(\"0014\") + hash160\n",
    "#prefix = b'\\xc4'\n",
    "publ_addr_b = bech32.encode(\"bc\",0,hash160)\n",
    "print(publ_addr_b)\n"
   ]
  },
  {
   "cell_type": "code",
   "execution_count": 3,
   "id": "0a0860e6-f46e-4eff-a35d-93bdd716b753",
   "metadata": {},
   "outputs": [
    {
     "name": "stdout",
     "output_type": "stream",
     "text": [
      "Core 0:  Searching Private Key..\n",
      "Core 1:  Searching Private Key..\n",
      "\n",
      "Public: bc1qdqj7eyn682szeg7k0rvcnzhzhhfdur54e2qh9g\n",
      " ---- Private: KybBbXaG9Vf4w7tNH3HutRmgnqx7upwKfSqh1W6E665gsoWqyomj\n",
      "\n",
      "Public: bc1qxs7pcy9w563p3nktjn2f3mgtlntg04n7er6d2n\n",
      " ---- Private: L1X7DjPXGnTbunkxm5ja1y69Y1mUSNDhgi1EhjuqV9r9ymyHhyia\n",
      "46b89b38a8adf47e6c62207f6389888a286f336ef0b16b1cf0eceaf17cc5b61eWINNER WINNER CHICKEN DINNER!!! ---- 2022-01-06 19:58:53 bc1qdqj7eyn682szeg7k0rvcnzhzhhfdur54e2qh9g\n",
      "804ca21af0f9f16fc971ab991938b7e86557b06353a1abf911ccca2f5c87e7c3WINNER WINNER CHICKEN DINNER!!! ---- 2022-01-06 19:58:53 bc1qxs7pcy9w563p3nktjn2f3mgtlntg04n7er6d2n\n",
      " KybBbXaG9Vf4w7tNH3HutRmgnqx7upwKfSqh1W6E665gsoWqyomj\n",
      " L1X7DjPXGnTbunkxm5ja1y69Y1mUSNDhgi1EhjuqV9r9ymyHhyia\n",
      "\n",
      "Public: bc1qt8z8pww7qwjxl7jeqdr6u2l6h2ht4kz93qhvga\n",
      " ---- Private: KxoKH7uUi6vxKJssuRwQbzKJZNyLtRYpdD3dShsBiLVvUMbYgrsm\n",
      "Public: bc1qwqypnktmlqgdwu9zljm7zepcx6g8yyf3vngddr\n",
      " ---- Private: KxkHiL9qbkLYNEvdVhjmNno5w18y6WJqm5F27P81Cp9jsV5gCauJ\n",
      "\n",
      "^C\n",
      "Error in atexit._run_exitfuncs:\n",
      "Traceback (most recent call last):\n",
      "  File \"/usr/lib64/python3.8/multiprocessing/popen_fork.py\", line 27, in poll\n",
      "Process Process-2:\n",
      "Process Process-1:\n",
      "    pid, sts = os.waitpid(self.pid, flag)\n",
      "KeyboardInterrupt\n",
      "Traceback (most recent call last):\n",
      "Traceback (most recent call last):\n",
      "  File \"/usr/lib64/python3.8/multiprocessing/process.py\", line 315, in _bootstrap\n",
      "    self.run()\n",
      "  File \"/usr/lib64/python3.8/multiprocessing/process.py\", line 108, in run\n",
      "    self._target(*self._args, **self._kwargs)\n",
      "  File \"/usr/lib64/python3.8/multiprocessing/process.py\", line 315, in _bootstrap\n",
      "    self.run()\n",
      "  File \"/data/BitBruteForce-Wallet-Compressed-Address/bcxSegwitShort.py\", line 83, in seek\n",
      "    time.sleep(10)\n",
      "  File \"/usr/lib64/python3.8/multiprocessing/process.py\", line 108, in run\n",
      "    self._target(*self._args, **self._kwargs)\n",
      "  File \"/data/BitBruteForce-Wallet-Compressed-Address/bcxSegwitShort.py\", line 83, in seek\n",
      "    time.sleep(10)\n",
      "KeyboardInterrupt\n",
      "KeyboardInterrupt\n"
     ]
    }
   ],
   "source": [
    "!python /data/BitBruteForce-Wallet-Compressed-Address/bcxSegwitShort.py"
   ]
  },
  {
   "cell_type": "code",
   "execution_count": null,
   "id": "f4da6230-7e56-4771-a660-44c7443e4fdf",
   "metadata": {},
   "outputs": [],
   "source": []
  }
 ],
 "metadata": {
  "kernelspec": {
   "display_name": "OpenVINO 2021.4",
   "language": "python",
   "name": "ov2021.4-venv"
  },
  "language_info": {
   "codemirror_mode": {
    "name": "ipython",
    "version": 3
   },
   "file_extension": ".py",
   "mimetype": "text/x-python",
   "name": "python",
   "nbconvert_exporter": "python",
   "pygments_lexer": "ipython3",
   "version": "3.8.2"
  }
 },
 "nbformat": 4,
 "nbformat_minor": 5
}
